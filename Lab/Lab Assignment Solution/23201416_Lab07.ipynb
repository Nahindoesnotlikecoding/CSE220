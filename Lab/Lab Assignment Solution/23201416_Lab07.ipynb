{
  "nbformat": 4,
  "nbformat_minor": 0,
  "metadata": {
    "colab": {
      "provenance": []
    },
    "kernelspec": {
      "name": "python3",
      "display_name": "Python 3"
    },
    "language_info": {
      "name": "python"
    }
  },
  "cells": [
    {
      "cell_type": "code",
      "source": [
        "import numpy as np"
      ],
      "metadata": {
        "id": "I73K2ZkwBWS7"
      },
      "execution_count": 114,
      "outputs": []
    },
    {
      "cell_type": "markdown",
      "source": [
        "## Task 1"
      ],
      "metadata": {
        "id": "Tusou-agBjN3"
      }
    },
    {
      "cell_type": "code",
      "source": [
        "class MinHeap:\n",
        "  def __init__(self, cap):\n",
        "    self.__arr = np.zeros(cap, dtype=\"int\")\n",
        "    self.__size = 0\n",
        "    self.__cap = cap\n",
        "\n",
        "  def insert(self, value):\n",
        "    if self.__size < self.__cap:\n",
        "      self.__size += 1\n",
        "      self.__arr[self.__size-1] = value\n",
        "      self.swim(self.__size-1)\n",
        "    else:\n",
        "      return\n",
        "  def swim(self, index):\n",
        "    if index > 0:\n",
        "      parent = (index - 1)//2\n",
        "      if self.__arr[index] < self.__arr[parent]:\n",
        "        self.__arr[index], self.__arr[parent] = self.__arr[parent], self.__arr[index]\n",
        "        self.swim(parent)\n",
        "      else:\n",
        "        return\n",
        "  def extractMin(self):\n",
        "    temp = self.__arr[0]\n",
        "    self.__arr[0], self.__arr[self.__size-1] = self.__arr[self.__size-1], self.__arr[0]\n",
        "    self.__size -= 1\n",
        "    self.__arr[self.__size] = 0\n",
        "    self.sink(0)\n",
        "    return temp\n",
        "\n",
        "  def sink(self, index):\n",
        "    if index < self.__size:\n",
        "      left = 2*index+1\n",
        "      right = 2*index+2\n",
        "      if left < self.__size:\n",
        "        if right < self.__size:\n",
        "          small = 0\n",
        "          if self.__arr[left] < self.__arr[right]:\n",
        "            small = left\n",
        "          else:\n",
        "            small = right\n",
        "          if self.__arr[small] < self.__arr[index]:\n",
        "            self.__arr[small], self.__arr[index] = self.__arr[index], self.__arr[small]\n",
        "            self.sink(small)\n",
        "        else:\n",
        "          if self.__arr[left] < self.__arr[index]:\n",
        "            self.__arr[left], self.__arr[index] = self.__arr[index], self.__arr[left]\n",
        "            self.sink(left)\n",
        "\n",
        "    return\n",
        "\n",
        "\n",
        "  def sort(self):\n",
        "    sorted_arr = np.zeros(self.__size, dtype=\"int\")\n",
        "    for i in range(len(sorted_arr)):\n",
        "      sorted_arr[i] = self.__arr[i]\n",
        "\n",
        "    sort_heap = MinHeap(len(sorted_arr))\n",
        "    for i in range(len(sorted_arr)):\n",
        "      sort_heap.insert(sorted_arr[i])\n",
        "\n",
        "    for i in range(len(sorted_arr)):\n",
        "      extracted = sort_heap.extractMin()\n",
        "      sorted_arr[i] = extracted\n",
        "    return sorted_arr\n",
        "\n",
        "  def getArray(self):\n",
        "    return self.__arr\n",
        "\n"
      ],
      "metadata": {
        "id": "rd5IxdiiCVWV"
      },
      "execution_count": 120,
      "outputs": []
    },
    {
      "cell_type": "code",
      "source": [
        "heap = MinHeap(10)\n",
        "heap.insert(10)\n",
        "heap.insert(120)\n",
        "heap.insert(232)\n",
        "heap.insert(250)\n",
        "heap.insert(71)\n",
        "heap.insert(155)\n",
        "heap.insert(200)\n",
        "heap.insert(170)\n",
        "heap.insert(8)\n",
        "\n",
        "\n",
        "\n",
        "\n",
        "print(f\"The heap array is: {heap.getArray()}\")\n",
        "print(f\"The sorted array is: {heap.sort()}\")\n",
        "print(f\"Extracted: {heap.extractMin()}\")\n",
        "print(f\"Extracted: {heap.extractMin()}\")\n",
        "print(f\"The heap array is: {heap.getArray()}\")"
      ],
      "metadata": {
        "colab": {
          "base_uri": "https://localhost:8080/"
        },
        "id": "KWqIRMvLCVY0",
        "outputId": "f05c5664-c4a4-4728-efe8-af4f53fefaf0"
      },
      "execution_count": 127,
      "outputs": [
        {
          "output_type": "stream",
          "name": "stdout",
          "text": [
            "The heap array is: [  8  10 155  71 120 232 200 250 170   0]\n",
            "The sorted array is: [  8  10  71 120 155 170 200 232 250]\n",
            "Extracted: 8\n",
            "Extracted: 10\n",
            "The heap array is: [ 71 120 155 170 250 232 200   0   0   0]\n"
          ]
        }
      ]
    },
    {
      "cell_type": "markdown",
      "source": [
        "## Task 2"
      ],
      "metadata": {
        "id": "jf_vOR_9Bl0o"
      }
    },
    {
      "cell_type": "code",
      "source": [
        "class MaxHeap:\n",
        "  def __init__(self, cap):\n",
        "    self.__arr = np.zeros(cap, dtype=\"int\")\n",
        "    self.__size = 0\n",
        "    self.__cap = cap\n",
        "\n",
        "  def insert(self, value):\n",
        "    if self.__size < self.__cap:\n",
        "      self.__size += 1\n",
        "      self.__arr[self.__size-1] = value\n",
        "      self.swim(self.__size-1)\n",
        "    else:\n",
        "      return\n",
        "\n",
        "  def swim(self, index):\n",
        "    if index>0:\n",
        "      parent = (index-1)//2\n",
        "      if self.__arr[index] > self.__arr[parent]:\n",
        "        self.__arr[index], self.__arr[parent] = self.__arr[parent], self.__arr[index]\n",
        "        self.swim(parent)\n",
        "      else:\n",
        "        return\n",
        "\n",
        "  def extractMax(self):\n",
        "    temp = self.__arr[0]\n",
        "    self.__arr[0], self.__arr[self.__size-1] = self.__arr[self.__size-1], self.__arr[0]\n",
        "    self.__size -= 1\n",
        "    self.__arr[self.__size] = 0\n",
        "    self.sink(0)\n",
        "    return temp\n",
        "\n",
        "  def sink(self, index):\n",
        "    if index < self.__size:\n",
        "      left = 2*index+1\n",
        "      right = 2*index+2\n",
        "      if left < self.__size:\n",
        "        if right < self.__size:\n",
        "          big = 0\n",
        "          if self.__arr[left] > self.__arr[right]:\n",
        "            big = left\n",
        "          else:\n",
        "            big = right\n",
        "          if self.__arr[big] > self.__arr[index]:\n",
        "            self.__arr[big], self.__arr[index] = self.__arr[index], self.__arr[big]\n",
        "            self.sink(big)\n",
        "        else:\n",
        "          if self.__arr[left] > self.__arr[index]:\n",
        "            self.__arr[left], self.__arr[index] = self.__arr[index], self.__arr[left]\n",
        "            self.sink(left)\n",
        "\n",
        "    return\n",
        "\n",
        "  def sort(self):\n",
        "    sorted_arr = np.zeros(self.__size, dtype=\"int\")\n",
        "    for i in range(len(sorted_arr)):\n",
        "      sorted_arr[i] = self.__arr[i]\n",
        "\n",
        "    sort_heap = MaxHeap(len(sorted_arr))\n",
        "    for i in range(len(sorted_arr)):\n",
        "      sort_heap.insert(sorted_arr[i])\n",
        "\n",
        "    for i in range(len(sorted_arr)-1, -1, -1):\n",
        "      extracted = sort_heap.extractMax()\n",
        "      sorted_arr[i] = extracted\n",
        "    return sorted_arr\n",
        "\n",
        "  def getArray(self):\n",
        "    return self.__arr\n",
        "\n"
      ],
      "metadata": {
        "id": "f3pIQz8XCVeU"
      },
      "execution_count": 128,
      "outputs": []
    },
    {
      "cell_type": "code",
      "source": [
        "heap = MaxHeap(10)\n",
        "heap.insert(10)\n",
        "heap.insert(120)\n",
        "heap.insert(232)\n",
        "heap.insert(250)\n",
        "heap.insert(71)\n",
        "heap.insert(155)\n",
        "heap.insert(200)\n",
        "heap.insert(170)\n",
        "heap.insert(8)\n",
        "\n",
        "\n",
        "\n",
        "\n",
        "print(f\"The heap array is: {heap.getArray()}\")\n",
        "print(f\"The sorted array is: {heap.sort()}\")\n",
        "print(f\"Extracted: {heap.extractMax()}\")\n",
        "print(f\"Extracted: {heap.extractMax()}\")\n",
        "print(f\"The heap array is: {heap.getArray()}\")"
      ],
      "metadata": {
        "id": "Xzft7PndCVg0",
        "colab": {
          "base_uri": "https://localhost:8080/"
        },
        "outputId": "20adccbc-44c3-41ba-a91f-b7cf9c0cbbf8"
      },
      "execution_count": 129,
      "outputs": [
        {
          "output_type": "stream",
          "name": "stdout",
          "text": [
            "The heap array is: [250 232 200 170  71 120 155  10   8   0]\n",
            "The sorted array is: [  8  10  71 120 155 170 200 232 250]\n",
            "Extracted: 250\n",
            "Extracted: 232\n",
            "The heap array is: [200 170 155  10  71 120   8   0   0   0]\n"
          ]
        }
      ]
    },
    {
      "cell_type": "markdown",
      "source": [
        "## Task 3"
      ],
      "metadata": {
        "id": "12MYU4LRIN1X"
      }
    },
    {
      "cell_type": "code",
      "source": [
        "def effective_machine(tasks, m):\n",
        "  obj = MinHeap(m)\n",
        "  for i in range(m):\n",
        "    obj.insert(0)\n",
        "\n",
        "  for i in range(len(tasks)):\n",
        "    extracted = obj.extractMin()\n",
        "    obj.insert(tasks[i]+extracted)\n",
        "  print(obj.getArray())\n",
        "\n",
        "tasks = np.array([2, 4, 7, 1, 6])\n",
        "m = 4\n",
        "effective_machine(tasks, m)"
      ],
      "metadata": {
        "id": "tMyZDClJCVls",
        "colab": {
          "base_uri": "https://localhost:8080/"
        },
        "outputId": "baa55b43-d981-421f-f02d-ab12a1820a66"
      },
      "execution_count": 130,
      "outputs": [
        {
          "output_type": "stream",
          "name": "stdout",
          "text": [
            "[2 4 7 7]\n"
          ]
        }
      ]
    },
    {
      "cell_type": "markdown",
      "source": [
        "## Task 4"
      ],
      "metadata": {
        "id": "bcOK0V0eMss3"
      }
    },
    {
      "cell_type": "code",
      "source": [
        "def max_integers(nums, k):\n",
        "  obj = MaxHeap(len(nums))\n",
        "  for i in range(len(nums)):\n",
        "    obj.insert(nums[i])\n",
        "  out_arr = np.zeros(k, dtype=\"int\")\n",
        "  for i in range(k):\n",
        "    extracted = obj.extractMax()\n",
        "    out_arr[i] = extracted\n",
        "\n",
        "  return out_arr\n",
        "\n",
        "nums = np.array([4, 10, 2, 8, 6, 7])\n",
        "k =3\n",
        "result = max_integers(nums, k)\n",
        "print(result)"
      ],
      "metadata": {
        "id": "hzrvb4QpCVok",
        "colab": {
          "base_uri": "https://localhost:8080/"
        },
        "outputId": "6227d205-1b49-4129-d76a-c5ecb00a25df"
      },
      "execution_count": 131,
      "outputs": [
        {
          "output_type": "stream",
          "name": "stdout",
          "text": [
            "[10  8  7]\n"
          ]
        }
      ]
    }
  ]
}