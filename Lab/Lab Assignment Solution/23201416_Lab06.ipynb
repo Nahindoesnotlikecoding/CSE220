{
  "cells": [
    {
      "cell_type": "code",
      "execution_count": 2,
      "metadata": {
        "id": "D6vC520OPeTa"
      },
      "outputs": [],
      "source": [
        "class BTNode:\n",
        "  def __init__(self, elem):\n",
        "    self.elem = elem\n",
        "    self.right = None\n",
        "    self.left = None"
      ]
    },
    {
      "cell_type": "code",
      "execution_count": 3,
      "metadata": {
        "id": "UDTKlm4-PfNM"
      },
      "outputs": [],
      "source": [
        "def inorder(root):\n",
        "  if root == None:\n",
        "    return\n",
        "\n",
        "  inorder(root.left)\n",
        "  print(root.elem, end = ' ')\n",
        "  inorder(root.right)"
      ]
    },
    {
      "cell_type": "code",
      "execution_count": 4,
      "metadata": {
        "id": "Rtc22SPzPgzM",
        "colab": {
          "base_uri": "https://localhost:8080/"
        },
        "outputId": "b740a187-cd58-4f1b-dc4c-25dff855e442"
      },
      "outputs": [
        {
          "output_type": "stream",
          "name": "stdout",
          "text": [
            "H D B E A I F J C G k "
          ]
        }
      ],
      "source": [
        "def tree_construction(arr, i = 1):\n",
        "  if i>=len(arr) or arr[i] == None:\n",
        "    return None\n",
        "  p = BTNode(arr[i])\n",
        "  p.left = tree_construction(arr, 2*i)\n",
        "  p.right = tree_construction(arr, 2*i+1)\n",
        "  return p\n",
        "\n",
        "\n",
        "root2 = tree_construction([None, 'A', 'B', 'C', 'D', 'E', 'F', 'G', 'H', None, None, None, 'I', 'J', None, 'k'])\n",
        "inorder(root2)"
      ]
    },
    {
      "cell_type": "markdown",
      "metadata": {
        "id": "S2nNCJNhPqGq"
      },
      "source": [
        "Task 1"
      ]
    },
    {
      "cell_type": "code",
      "execution_count": 5,
      "metadata": {
        "id": "zbBHU3FoPieb",
        "colab": {
          "base_uri": "https://localhost:8080/"
        },
        "outputId": "68ac93b6-b0b6-4424-8a90-31cf496f9d34"
      },
      "outputs": [
        {
          "output_type": "stream",
          "name": "stdout",
          "text": [
            "10\n",
            "15\n",
            "20\n",
            "25\n",
            "10\n"
          ]
        }
      ],
      "source": [
        "def LCA(root, x, y):\n",
        "  if root == None:\n",
        "    return None\n",
        "  elif x < root.elem and y < root.elem:\n",
        "    return LCA(root.left, x, y)\n",
        "  elif x > root.elem and y > root.elem:\n",
        "    return LCA(root.right, x, y)\n",
        "  else:\n",
        "    return root\n",
        "\n",
        "\n",
        "#DRIVER CODE\n",
        "root = BTNode(15)\n",
        "root.left = BTNode(10)\n",
        "root.left.left = BTNode(8)\n",
        "root.left.right = BTNode(12)\n",
        "root.left.left.left = BTNode(6)\n",
        "root.left.left.right = BTNode(9)\n",
        "root.right = BTNode(25)\n",
        "root.right.left = BTNode(20)\n",
        "root.right.right = BTNode(30)\n",
        "root.right.left.left = BTNode(18)\n",
        "root.right.left.right = BTNode(22)\n",
        "\n",
        "root1 = LCA(root, 6, 12)\n",
        "print(root1.elem)\n",
        "root2 = LCA(root, 20, 6)\n",
        "print(root2.elem)\n",
        "root3 = LCA(root, 18, 22)\n",
        "print(root3.elem)\n",
        "root4 = LCA(root, 20, 25)\n",
        "print(root4.elem)\n",
        "root5 = LCA(root, 10, 12)\n",
        "print(root5.elem)\n",
        "#Write by yourself from the given tree (Create parent node and its corresponding left and right children nodes)\n",
        "#check all the sample inputs given\n",
        "#You can take help by seeing the driver code of Lab-6"
      ]
    },
    {
      "cell_type": "markdown",
      "metadata": {
        "id": "c-TBf3m0PrtK"
      },
      "source": [
        "Task 2"
      ]
    },
    {
      "cell_type": "code",
      "source": [
        "def isPresent(root, key):\n",
        "  if root == None:\n",
        "    return False\n",
        "  elif root.elem > key:\n",
        "    return isPresent(root.left, key)\n",
        "  elif root.elem < key:\n",
        "    return isPresent(root.right, key)\n",
        "  elif root.elem == key:\n",
        "    return True\n",
        "\n",
        "def print_path(root, key):\n",
        "  if root == None:\n",
        "    return None\n",
        "  elif root.elem > key:\n",
        "    print(root.elem, end=\", \")\n",
        "    return print_path(root.left, key)\n",
        "  elif root.elem < key:\n",
        "    print(root.elem, end=\", \")\n",
        "    return print_path(root.right, key)\n",
        "  else:\n",
        "    print(root.elem, end=\"\")\n",
        "\n",
        "def find_Path(root, key):\n",
        "  is_present = isPresent(root, key)\n",
        "  if is_present:\n",
        "    print(\"Path: [\" , end=\"\")\n",
        "    print_path(root, key)\n",
        "    return \"]\"\n",
        "  else:\n",
        "    return \"No path Found\"\n",
        "\n",
        "\n",
        "#DRIVER CODE\n",
        "#Write by yourself from the given tree\n",
        "root = BTNode(30)\n",
        "root.left = BTNode(10)\n",
        "root.right = BTNode(40)\n",
        "root.left.left = BTNode(3)\n",
        "root.left.right = BTNode(15)\n",
        "root.right.left = BTNode(35)\n",
        "root.right.right = BTNode(55)\n",
        "\n",
        "print(find_Path(root,15))\n",
        "#This should print [30,10,15]\n",
        "\n",
        "print(find_Path(root,50))\n",
        "#This should print No Path Found"
      ],
      "metadata": {
        "id": "i6l-v7k1eE9A",
        "colab": {
          "base_uri": "https://localhost:8080/"
        },
        "outputId": "dc1dcb95-8750-40ff-8e81-047a0c7e9976"
      },
      "execution_count": 6,
      "outputs": [
        {
          "output_type": "stream",
          "name": "stdout",
          "text": [
            "Path: [30, 10, 15]\n",
            "No path Found\n"
          ]
        }
      ]
    },
    {
      "cell_type": "markdown",
      "metadata": {
        "id": "7r3lH3aWPz2d"
      },
      "source": [
        "Task 3"
      ]
    },
    {
      "cell_type": "code",
      "source": [
        "def sum_of_leaves(root, sum):\n",
        "  if root == None:\n",
        "    return 0\n",
        "  elif root.left == None and root.right == None:\n",
        "    return root.elem\n",
        "  else:\n",
        "    return sum_of_leaves(root.left, sum) + sum_of_leaves(root.right, sum)\n",
        "\n",
        "\n",
        "#DRIVER CODE\n",
        "#Write by yourself from the given tree\n",
        "\n",
        "print(sum_of_leaves(root, 0))"
      ],
      "metadata": {
        "id": "5eT12zYb8zm7",
        "colab": {
          "base_uri": "https://localhost:8080/"
        },
        "outputId": "232e6485-821e-475a-c96c-b2653528a646"
      },
      "execution_count": 7,
      "outputs": [
        {
          "output_type": "stream",
          "name": "stdout",
          "text": [
            "108\n"
          ]
        }
      ]
    },
    {
      "cell_type": "markdown",
      "metadata": {
        "id": "5KeA-BoC3uOo"
      },
      "source": [
        "Task 4"
      ]
    },
    {
      "cell_type": "code",
      "execution_count": 8,
      "metadata": {
        "id": "zFwP64v4Pu6d",
        "colab": {
          "base_uri": "https://localhost:8080/"
        },
        "outputId": "dffcb55e-eca2-4c5f-f6d7-652a115f3a65"
      },
      "outputs": [
        {
          "output_type": "stream",
          "name": "stdout",
          "text": [
            "Given Tree Inorder Traversal:  4 8 10 12 14 20 22 \n",
            "Inorder predecessor of node 20: 14\n",
            "Inorder predecessor of node 14: 12\n",
            "Inorder predecessor of node 10: 8\n"
          ]
        }
      ],
      "source": [
        "def inorder_predecessor(root, x):\n",
        "  if root == None:\n",
        "    return None\n",
        "  elif root.elem >= x.elem:\n",
        "    return inorder_predecessor(root.left, x)\n",
        "  else:\n",
        "    ans = inorder_predecessor(root.right, x)\n",
        "    if ans != None:\n",
        "      return ans\n",
        "    else:\n",
        "      return root\n",
        "\n",
        "\n",
        "#DRIVER CODE\n",
        "root = BTNode(20)\n",
        "n1 = BTNode(8)\n",
        "n2 = BTNode(22)\n",
        "n3 = BTNode(4)\n",
        "n4 = BTNode(12)\n",
        "n5 = BTNode(10)\n",
        "n6 = BTNode(14)\n",
        "\n",
        "root.left = n1\n",
        "root.right = n2\n",
        "\n",
        "n1.left = n3\n",
        "n1.right = n4\n",
        "\n",
        "n4.left = n5\n",
        "n4.right = n6\n",
        "\n",
        "print('Given Tree Inorder Traversal: ', end = ' ')\n",
        "inorder(root) #Given Tree Inorder Traversal:  4 8 10 12 14 20 22\n",
        "print()\n",
        "\n",
        "x = root\n",
        "print(f'Inorder predecessor of node {x.elem}: {inorder_predecessor(root, x).elem}') #Inorder predecessor of node 20: 14\n",
        "x = root.left.right.right\n",
        "print(f'Inorder predecessor of node {x.elem}: {inorder_predecessor(root, x).elem}') #Inorder predecessor of node 14: 12\n",
        "x = root.left.right.left\n",
        "print(f'Inorder predecessor of node {x.elem}: {inorder_predecessor(root, x).elem}') #Inorder predecessor of node 10: 8"
      ]
    }
  ],
  "metadata": {
    "colab": {
      "provenance": []
    },
    "kernelspec": {
      "display_name": "Python 3",
      "name": "python3"
    },
    "language_info": {
      "name": "python"
    }
  },
  "nbformat": 4,
  "nbformat_minor": 0
}